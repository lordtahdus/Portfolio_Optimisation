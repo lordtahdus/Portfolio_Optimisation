{
 "cells": [
  {
   "cell_type": "code",
   "execution_count": 1,
   "metadata": {},
   "outputs": [],
   "source": [
    "import pandas as pd\n",
    "import numpy as np\n",
    "import seaborn as sns\n",
    "import scipy.stats\n",
    "import matplotlib.pyplot as plt\n",
    "import matplotlib.dates as mdates\n",
    "import ast"
   ]
  },
  {
   "cell_type": "code",
   "execution_count": 38,
   "metadata": {},
   "outputs": [],
   "source": [
    "# Read the CSV file into a pandas DataFrame\n",
    "df = pd.read_csv('../asm1/portfolio_optimization_results.csv')\n"
   ]
  },
  {
   "cell_type": "code",
   "execution_count": 39,
   "metadata": {},
   "outputs": [
    {
     "data": {
      "text/plain": [
       "Combination                   ('SUN', 'BWP', 'CPU', 'VEA', 'CSL', 'GNC')\n",
       "Optimized_b            [0.21685176406, 0.1, 0.2461669391, 0.236980723...\n",
       "Optimized_Objective                                             9.030287\n",
       "Optimized_Returns                                               0.000705\n",
       "Minimum_Variance                                                0.000078\n",
       "Name: 16, dtype: object"
      ]
     },
     "execution_count": 39,
     "metadata": {},
     "output_type": "execute_result"
    }
   ],
   "source": [
    "# Get the portfolio with the highest optimized objective value\n",
    "best_portfolio = df.loc[df['Optimized_Objective'].idxmax()]\n",
    "best_portfolio"
   ]
  },
  {
   "cell_type": "markdown",
   "metadata": {},
   "source": [
    "Store the data"
   ]
  },
  {
   "cell_type": "code",
   "execution_count": 40,
   "metadata": {},
   "outputs": [],
   "source": [
    "# Convert the Series to a DataFrame\n",
    "df_to_save = pd.DataFrame(best_portfolio).T\n",
    "\n",
    "# Store the DataFrame into a CSV file\n",
    "df_to_save.to_csv('best_portfolio.csv', index=False)"
   ]
  },
  {
   "cell_type": "markdown",
   "metadata": {},
   "source": [
    "## Analysis"
   ]
  },
  {
   "cell_type": "code",
   "execution_count": 41,
   "metadata": {},
   "outputs": [
    {
     "data": {
      "text/html": [
       "<div>\n",
       "<style scoped>\n",
       "    .dataframe tbody tr th:only-of-type {\n",
       "        vertical-align: middle;\n",
       "    }\n",
       "\n",
       "    .dataframe tbody tr th {\n",
       "        vertical-align: top;\n",
       "    }\n",
       "\n",
       "    .dataframe thead th {\n",
       "        text-align: right;\n",
       "    }\n",
       "</style>\n",
       "<table border=\"1\" class=\"dataframe\">\n",
       "  <thead>\n",
       "    <tr style=\"text-align: right;\">\n",
       "      <th></th>\n",
       "      <th>Combination</th>\n",
       "      <th>Optimized_b</th>\n",
       "      <th>Optimized_Objective</th>\n",
       "      <th>Optimized_Returns</th>\n",
       "      <th>Minimum_Variance</th>\n",
       "      <th>Standard_Deviation</th>\n",
       "    </tr>\n",
       "  </thead>\n",
       "  <tbody>\n",
       "    <tr>\n",
       "      <th>0</th>\n",
       "      <td>('SUN', 'BWP', 'CPU', 'VEA', 'CSL', 'GNC')</td>\n",
       "      <td>[0.2169, 0.1, 0.2462, 0.237, 0.1, 0.1]</td>\n",
       "      <td>9.030287</td>\n",
       "      <td>0.070545</td>\n",
       "      <td>0.781207</td>\n",
       "      <td>0.883859</td>\n",
       "    </tr>\n",
       "  </tbody>\n",
       "</table>\n",
       "</div>"
      ],
      "text/plain": [
       "                                  Combination  \\\n",
       "0  ('SUN', 'BWP', 'CPU', 'VEA', 'CSL', 'GNC')   \n",
       "\n",
       "                              Optimized_b  Optimized_Objective  \\\n",
       "0  [0.2169, 0.1, 0.2462, 0.237, 0.1, 0.1]             9.030287   \n",
       "\n",
       "   Optimized_Returns  Minimum_Variance  Standard_Deviation  \n",
       "0           0.070545          0.781207            0.883859  "
      ]
     },
     "execution_count": 41,
     "metadata": {},
     "output_type": "execute_result"
    }
   ],
   "source": [
    "df = pd.read_csv('best_portfolio.csv')\n",
    "\n",
    "# Convert the 'Optimized_b' column from strings to lists of floats\n",
    "df['Optimized_b'] = df['Optimized_b'].apply(lambda x: np.fromstring(x[1:-1], sep=', '))\n",
    "\n",
    "# Multiply the expected returns by 100\n",
    "df['Optimized_Returns'] *= 100\n",
    "# Multiply the minimum variance by 100 squared\n",
    "df['Minimum_Variance'] *= 100**2\n",
    "# Calculate the standard deviation from the variance\n",
    "df['Standard_Deviation'] = np.sqrt(df['Minimum_Variance'])\n",
    "\n",
    "# round up\n",
    "df['Optimized_b'] = df['Optimized_b'].apply(lambda x: np.round(x, 4))\n",
    "\n",
    "df"
   ]
  },
  {
   "cell_type": "code",
   "execution_count": null,
   "metadata": {},
   "outputs": [],
   "source": [
    "# Obtain the optimised obj portfolio\n",
    "portfolio_combination = list(\n",
    "    ast.literal_eval(df['Combination'])\n",
    ")\n",
    "portfolio_weights = list(df['Optimized_b'])\n",
    "# Compute the log return\n",
    "stock_returns = pd.read_csv('stock_log_returns.csv', index_col='Date')\n",
    "stock_returns.index = pd.to_datetime(stock_returns.index)\n",
    "portfolio_return = np.dot(stock_returns[portfolio_combination].values, portfolio_weights)\n",
    "portfolio_return = pd.DataFrame(portfolio_return, index=stock_returns.index, columns=['Portfolio Return'])"
   ]
  },
  {
   "cell_type": "code",
   "execution_count": null,
   "metadata": {},
   "outputs": [],
   "source": []
  }
 ],
 "metadata": {
  "kernelspec": {
   "display_name": "Python 3",
   "language": "python",
   "name": "python3"
  },
  "language_info": {
   "codemirror_mode": {
    "name": "ipython",
    "version": 3
   },
   "file_extension": ".py",
   "mimetype": "text/x-python",
   "name": "python",
   "nbconvert_exporter": "python",
   "pygments_lexer": "ipython3",
   "version": "3.12.1"
  }
 },
 "nbformat": 4,
 "nbformat_minor": 2
}
