{
 "cells": [
  {
   "cell_type": "code",
   "execution_count": 14,
   "metadata": {},
   "outputs": [],
   "source": [
    "import yfinance as yf\n",
    "import pandas as pd\n",
    "import numpy as np\n",
    "import sklearn\n",
    "from typing import List"
   ]
  },
  {
   "cell_type": "code",
   "execution_count": 15,
   "metadata": {},
   "outputs": [],
   "source": [
    "def retrieve_history(codes: List, period, interval) -> dict:\n",
    "    stock_history = {}\n",
    "    for code in codes:\n",
    "        data = yf.Ticker(code).history(period, interval)\n",
    "        # add return\n",
    "        data['Return'] = (data['Close'] - data['Open']) / data['Open'] * 100\n",
    "        # drop unnecessary cols\n",
    "        data.drop(['Dividends', 'Stock Splits'], axis=1)\n",
    "        stock_history[code] = data\n",
    "    return stock_history"
   ]
  },
  {
   "cell_type": "code",
   "execution_count": 16,
   "metadata": {},
   "outputs": [],
   "source": [
    "bonds_history = pd.read_csv('../assets/bonds/f02m.csv', index_col='Date')\n",
    "bonds_history['Return'] = bonds_history['']"
   ]
  },
  {
   "cell_type": "code",
   "execution_count": null,
   "metadata": {},
   "outputs": [],
   "source": [
    "period = '3y'\n",
    "interval = '1mo'\n",
    "asx200"
   ]
  },
  {
   "cell_type": "code",
   "execution_count": null,
   "metadata": {},
   "outputs": [],
   "source": []
  },
  {
   "cell_type": "code",
   "execution_count": null,
   "metadata": {},
   "outputs": [],
   "source": []
  }
 ],
 "metadata": {
  "kernelspec": {
   "display_name": "Python 3",
   "language": "python",
   "name": "python3"
  },
  "language_info": {
   "codemirror_mode": {
    "name": "ipython",
    "version": 3
   },
   "file_extension": ".py",
   "mimetype": "text/x-python",
   "name": "python",
   "nbconvert_exporter": "python",
   "pygments_lexer": "ipython3",
   "version": "3.11.4"
  }
 },
 "nbformat": 4,
 "nbformat_minor": 2
}
